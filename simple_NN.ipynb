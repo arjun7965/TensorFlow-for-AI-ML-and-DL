{
  "nbformat": 4,
  "nbformat_minor": 0,
  "metadata": {
    "colab": {
      "name": "simple_NN.ipynb",
      "version": "0.3.2",
      "provenance": [],
      "include_colab_link": true
    },
    "kernelspec": {
      "name": "python3",
      "display_name": "Python 3"
    },
    "accelerator": "GPU"
  },
  "cells": [
    {
      "cell_type": "markdown",
      "metadata": {
        "id": "view-in-github",
        "colab_type": "text"
      },
      "source": [
        "<a href=\"https://colab.research.google.com/github/arjun7965/TensorFlow-for-AI-ML-and-DL/blob/master/simple_NN.ipynb\" target=\"_parent\"><img src=\"https://colab.research.google.com/assets/colab-badge.svg\" alt=\"Open In Colab\"/></a>"
      ]
    },
    {
      "metadata": {
        "id": "jGEeuUG8izJS",
        "colab_type": "code",
        "colab": {}
      },
      "cell_type": "code",
      "source": [
        "!pip install tensorflow"
      ],
      "execution_count": 0,
      "outputs": []
    },
    {
      "metadata": {
        "id": "J-qIhk93lY9a",
        "colab_type": "code",
        "colab": {}
      },
      "cell_type": "code",
      "source": [
        "import tensorflow as tf\n",
        "from tensorflow import keras\n",
        "import numpy as np\n",
        "\n",
        "#create a simple neural network\n",
        "#It has 1 layer, and that layer has 1 neuron, and the input shape to it is just 1 value.\n",
        "model = tf.keras.Sequential([keras.layers.Dense(units=1, input_shape=[1])])\n",
        "\n",
        "#y=2x - 1. We are trying to make a model to predict y for a given x value\n",
        "#compile. We use 'MEAN SQUARED ERROR' for the loss and 'STOCHASTIC GRADIENT DESCENT' for the optimizer\n",
        "model.compile(optimizer='sgd', loss='mean_squared_error')\n",
        "\n",
        "xs = np.array([-1.0, 2.0, 5.0, -2.0, 6.0, 3.0, 8.0], dtype=float)\n",
        "ys = np.array([-3.0, 3.0, 9.0, -5.0, 11.0, 5.0, 15.0], dtype=float)\n",
        "\n",
        "#train the Neural Network. it trains for the number of epochs you specify\n",
        "model.fit(xs, ys, epochs=500)\n",
        "\n",
        "#predict the value of y for a given x\n",
        "print(model.predict([10.0]))\n"
      ],
      "execution_count": 0,
      "outputs": []
    }
  ]
}